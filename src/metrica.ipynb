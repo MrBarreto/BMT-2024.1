{
 "cells": [
  {
   "cell_type": "code",
   "execution_count": 1,
   "metadata": {},
   "outputs": [],
   "source": [
    "import pandas as pd\n",
    "import matplotlib.pyplot as plt \n",
    "import numpy as np"
   ]
  },
  {
   "cell_type": "markdown",
   "metadata": {},
   "source": [
    "# Lendo os arquivos de resultados e fazendo castings"
   ]
  },
  {
   "cell_type": "code",
   "execution_count": 7,
   "metadata": {},
   "outputs": [],
   "source": [
    "resultados =  pd.read_csv('../outputs_nostemmer/Resultados.csv', sep=';')\n",
    "resultados_stemmer = pd.read_csv('../outputs_stemmer/Resultados.csv', sep=';')"
   ]
  },
  {
   "cell_type": "code",
   "execution_count": 18,
   "metadata": {},
   "outputs": [],
   "source": [
    "resultados[['Rank', 'DocNumber', 'Score']] = resultados['List'].str.strip('[]').str.split(', ', expand=True)\n",
    "resultados['QueryNumber'] = resultados['QueryNumber'].astype(int)\n",
    "resultados['Rank'] = resultados['Rank'].astype(int)\n",
    "resultados['DocNumber'] = resultados['DocNumber'].astype(int)\n",
    "resultados['Score'] = resultados['Score'].astype(float)"
   ]
  },
  {
   "cell_type": "code",
   "execution_count": 17,
   "metadata": {},
   "outputs": [
    {
     "data": {
      "text/plain": [
       "Index(['QueryNumber', 'List', 'Rank', 'DocNumber', 'Score'], dtype='object')"
      ]
     },
     "execution_count": 17,
     "metadata": {},
     "output_type": "execute_result"
    }
   ],
   "source": [
    "resultados.columns"
   ]
  },
  {
   "cell_type": "code",
   "execution_count": 12,
   "metadata": {},
   "outputs": [],
   "source": [
    "resultados_stemmer[['Rank', 'DocNumber', 'Score']] = resultados_stemmer['List'].str.strip('[]').str.split(', ', expand=True)\n",
    "resultados_stemmer['Rank'] = resultados_stemmer['Rank'].astype(int)\n",
    "resultados_stemmer['DocNumber'] = resultados_stemmer['DocNumber'].astype(int)\n",
    "resultados_stemmer['Score'] = resultados_stemmer['Score'].astype(float)"
   ]
  },
  {
   "cell_type": "code",
   "execution_count": 16,
   "metadata": {},
   "outputs": [],
   "source": [
    "esperados = pd.read_csv('../outputs_nostemmer/Esperados.csv', sep=';')\n",
    "esperados['QueryNumber'] = esperados['QueryNumber'].astype(int)\n",
    "esperados['DocNumber'] = esperados['DocNumber'].astype(int)\n",
    "esperados['DocVotes'] = esperados['DocVotes'].astype(int)"
   ]
  },
  {
   "cell_type": "markdown",
   "metadata": {},
   "source": [
    "# Gráfico de 11 pontos de precisão e recall"
   ]
  },
  {
   "cell_type": "markdown",
   "metadata": {},
   "source": [
    "Para calcular precision e recall precisamos antes definir os valores para os verdadeiros positivos, falso positivo e falso negativo.\n",
    "* Podemos definir o somatório de VP +FP como tudo aquilo que foi buscado pelo modelo, portanto Precisão = VP/Buscado\n",
    "* Já VP + Fn pode ser difinido como o conjunto de resultados esperados, portanto Recall = VP/Esperado\n",
    "* Por fim, VP isoladamente pode ser dado como a interseçao entre o esperado e o obtido VP = Buscado intersec Esperado"
   ]
  },
  {
   "cell_type": "markdown",
   "metadata": {},
   "source": [
    "Calcularemos 11 pontos de precision e recall para cada query e em seguida faremos a média dos valores"
   ]
  },
  {
   "cell_type": "code",
   "execution_count": 23,
   "metadata": {},
   "outputs": [],
   "source": [
    "def curva_precision_recall_11(resultados, esperados, stemmer):\n",
    "    buscas_recall = []\n",
    "    busca_precisions = []\n",
    "    conjunto_buscas = set(esperados['DocNumber'].to_list())\n",
    "    for busca in conjunto_buscas:\n",
    "        esperados_busca = esperados.loc[esperados['QueryNumber'] == busca, 'DocNumber'].to_list()\n",
    "        resultados_busca = resultados.loc[resultados['QueryNumber'] == busca, 'DocNumber'].to_list()\n",
    "        recall = []\n",
    "        precision = []\n",
    "        passo = round(len(resultados_busca)/11)\n",
    "        for ponto in range(11):\n",
    "            buscados_ponto = resultados_busca[:(ponto+1)*passo]\n",
    "            vp = len(set(esperados_busca).intersection(buscados_ponto))\n",
    "            precision.append(vp/len(buscados_ponto))\n",
    "            recall.append(vp/len(resultados_busca))\n",
    "        buscas_recall.append(recall)\n",
    "        busca_precisions.append(precision)\n",
    "    media_precision = np.mean(np.array(busca_precisions), axis=0)\n",
    "    media_recall = np.mean(np.array(buscas_recall), axis=0)\n",
    "    \n",
    "    if stemmer:\n",
    "        figure_path = '../avalia/11_precisao_recall_stemmer.pdf'\n",
    "        csv_path = '../avalia/11_precisao_recall_stemmer.csv'\n",
    "    else:\n",
    "        figure_path = '../avalia/11_precisao_recall_nostemmer.pdf'\n",
    "        csv_path = '../avalia/11_precisao_recall_nostemmer.csv'\n",
    "    \n",
    "    # Plotar o gráfico Precision-Recall\n",
    "    plt.plot(media_precision, media_recall, marker='o', label='Precision-Recall Curve')\n",
    "\n",
    "    # Configurações do gráfico\n",
    "    plt.xlabel('Precision')\n",
    "    plt.ylabel('Recall')\n",
    "    plt.title('Precision-Recall Curve')\n",
    "    plt.legend()\n",
    "    plt.grid(True)\n",
    "    plt.savefig(figure_path)\n",
    "    # Exibir o gráfico\n",
    "    plt.show()\n",
    "    precision_recall_df = pd.DataFrame(np.array([media_precision, media_recall]).T, columns=[\"Precision\", \"Recall\"])\n",
    "    precision_recall_df.to_csv(csv_path, sep=\";\", index=False)"
   ]
  },
  {
   "cell_type": "code",
   "execution_count": 24,
   "metadata": {},
   "outputs": [
    {
     "name": "stdout",
     "output_type": "stream",
     "text": [
      "110.45454545454545\n"
     ]
    },
    {
     "ename": "TypeError",
     "evalue": "slice indices must be integers or None or have an __index__ method",
     "output_type": "error",
     "traceback": [
      "\u001b[0;31m---------------------------------------------------------------------------\u001b[0m",
      "\u001b[0;31mTypeError\u001b[0m                                 Traceback (most recent call last)",
      "Cell \u001b[0;32mIn[24], line 1\u001b[0m\n\u001b[0;32m----> 1\u001b[0m curva_precision_recall_11(resultados_stemmer, esperados, \u001b[38;5;28;01mTrue\u001b[39;00m)\n",
      "Cell \u001b[0;32mIn[23], line 13\u001b[0m, in \u001b[0;36mcurva_precision_recall_11\u001b[0;34m(resultados, esperados, stemmer)\u001b[0m\n\u001b[1;32m     11\u001b[0m \u001b[38;5;28;01mfor\u001b[39;00m ponto \u001b[38;5;129;01min\u001b[39;00m \u001b[38;5;28mrange\u001b[39m(\u001b[38;5;241m11\u001b[39m):\n\u001b[1;32m     12\u001b[0m     \u001b[38;5;28mprint\u001b[39m((ponto\u001b[38;5;241m+\u001b[39m\u001b[38;5;241m1\u001b[39m)\u001b[38;5;241m*\u001b[39mpasso)\n\u001b[0;32m---> 13\u001b[0m     buscados_ponto \u001b[38;5;241m=\u001b[39m resultados_busca[:(ponto\u001b[38;5;241m+\u001b[39m\u001b[38;5;241m1\u001b[39m)\u001b[38;5;241m*\u001b[39mpasso]\n\u001b[1;32m     14\u001b[0m     vp \u001b[38;5;241m=\u001b[39m \u001b[38;5;28mlen\u001b[39m(\u001b[38;5;28mset\u001b[39m(esperados_busca)\u001b[38;5;241m.\u001b[39mintersection(buscados_ponto))\n\u001b[1;32m     15\u001b[0m     precision\u001b[38;5;241m.\u001b[39mappend(vp\u001b[38;5;241m/\u001b[39m\u001b[38;5;28mlen\u001b[39m(buscados_ponto))\n",
      "\u001b[0;31mTypeError\u001b[0m: slice indices must be integers or None or have an __index__ method"
     ]
    }
   ],
   "source": [
    "curva_precision_recall_11(resultados_stemmer, esperados, True)"
   ]
  }
 ],
 "metadata": {
  "kernelspec": {
   "display_name": "base",
   "language": "python",
   "name": "python3"
  },
  "language_info": {
   "codemirror_mode": {
    "name": "ipython",
    "version": 3
   },
   "file_extension": ".py",
   "mimetype": "text/x-python",
   "name": "python",
   "nbconvert_exporter": "python",
   "pygments_lexer": "ipython3",
   "version": "3.11.7"
  }
 },
 "nbformat": 4,
 "nbformat_minor": 2
}
