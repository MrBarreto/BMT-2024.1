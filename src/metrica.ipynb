{
 "cells": [
  {
   "cell_type": "code",
   "execution_count": 1,
   "metadata": {},
   "outputs": [],
   "source": [
    "import pandas as pd\n",
    "import matplotlib.pyplot as plt \n",
    "import numpy as np"
   ]
  },
  {
   "cell_type": "markdown",
   "metadata": {},
   "source": [
    "# Lendo os arquivos de resultados e fazendo castings"
   ]
  },
  {
   "cell_type": "code",
   "execution_count": 2,
   "metadata": {},
   "outputs": [],
   "source": [
    "resultados =  pd.read_csv('../outputs_nostemmer/Resultados.csv', sep=';')\n",
    "resultados_stemmer = pd.read_csv('../outputs_stemmer/Resultados.csv', sep=';')"
   ]
  },
  {
   "cell_type": "code",
   "execution_count": 3,
   "metadata": {},
   "outputs": [],
   "source": [
    "resultados[['Rank', 'DocNumber', 'Score']] = resultados['List'].str.strip('[]').str.split(', ', expand=True)\n",
    "resultados['QueryNumber'] = resultados['QueryNumber'].astype(int)\n",
    "resultados['Rank'] = resultados['Rank'].astype(int)\n",
    "resultados['DocNumber'] = resultados['DocNumber'].astype(int)\n",
    "resultados['Score'] = resultados['Score'].astype(float)"
   ]
  },
  {
   "cell_type": "code",
   "execution_count": 4,
   "metadata": {},
   "outputs": [
    {
     "data": {
      "text/plain": [
       "Index(['QueryNumber', 'List', 'Rank', 'DocNumber', 'Score'], dtype='object')"
      ]
     },
     "execution_count": 4,
     "metadata": {},
     "output_type": "execute_result"
    }
   ],
   "source": [
    "resultados.columns"
   ]
  },
  {
   "cell_type": "code",
   "execution_count": 5,
   "metadata": {},
   "outputs": [],
   "source": [
    "resultados_stemmer[['Rank', 'DocNumber', 'Score']] = resultados_stemmer['List'].str.strip('[]').str.split(', ', expand=True)\n",
    "resultados_stemmer['Rank'] = resultados_stemmer['Rank'].astype(int)\n",
    "resultados_stemmer['DocNumber'] = resultados_stemmer['DocNumber'].astype(int)\n",
    "resultados_stemmer['Score'] = resultados_stemmer['Score'].astype(float)"
   ]
  },
  {
   "cell_type": "code",
   "execution_count": 6,
   "metadata": {},
   "outputs": [],
   "source": [
    "esperados = pd.read_csv('../outputs_nostemmer/Esperados.csv', sep=';')\n",
    "esperados['QueryNumber'] = esperados['QueryNumber'].astype(int)\n",
    "esperados['DocNumber'] = esperados['DocNumber'].astype(int)\n",
    "esperados['DocVotes'] = esperados['DocVotes'].astype(int)"
   ]
  },
  {
   "cell_type": "markdown",
   "metadata": {},
   "source": [
    "Durante o processamento identifiquei alguns documentos sem abstract nem extract, como eles não podem ser indexados, não é razoável que eles façam parte dos valores esperados"
   ]
  },
  {
   "cell_type": "code",
   "execution_count": 7,
   "metadata": {},
   "outputs": [],
   "source": [
    "def teste(resultados, esperados):\n",
    "    conjunto_buscas = set(esperados['QueryNumber'].to_list())\n",
    "    faltantes = set()\n",
    "    \n",
    "    for busca in conjunto_buscas:\n",
    "        esperados_busca = esperados.loc[esperados['QueryNumber'] == busca, 'DocNumber'].to_list()\n",
    "        resultados_busca = resultados.loc[resultados['QueryNumber'] == busca, 'DocNumber'].to_list()\n",
    "        \n",
    "        # Encontrar documentos esperados que não estão nos resultados\n",
    "        documentos_faltantes = set(esperados_busca).difference(set(resultados_busca))\n",
    "        \n",
    "        # Adicionar documentos faltantes ao conjunto\n",
    "        faltantes.update(documentos_faltantes)\n",
    "    \n",
    "    # Imprimir os documentos faltantes\n",
    "    print(f\"Documentos faltantes: {faltantes}\")\n",
    "    return faltantes"
   ]
  },
  {
   "cell_type": "code",
   "execution_count": 8,
   "metadata": {},
   "outputs": [
    {
     "name": "stdout",
     "output_type": "stream",
     "text": [
      "Documentos faltantes: {512, 128, 1154, 1089, 132, 839, 712, 1225, 329, 894, 595, 729, 735, 1187, 36, 932, 551, 168, 298, 939, 1069, 493, 1150, 1023}\n"
     ]
    }
   ],
   "source": [
    "valores_remover = teste(resultados, esperados)"
   ]
  },
  {
   "cell_type": "code",
   "execution_count": 9,
   "metadata": {},
   "outputs": [
    {
     "data": {
      "text/plain": [
       "(4820, 3)"
      ]
     },
     "execution_count": 9,
     "metadata": {},
     "output_type": "execute_result"
    }
   ],
   "source": [
    "esperados.shape"
   ]
  },
  {
   "cell_type": "code",
   "execution_count": 10,
   "metadata": {},
   "outputs": [],
   "source": [
    "esperados = esperados[~esperados['DocNumber'].isin(valores_remover)]"
   ]
  },
  {
   "cell_type": "code",
   "execution_count": 11,
   "metadata": {},
   "outputs": [
    {
     "data": {
      "text/plain": [
       "(4710, 3)"
      ]
     },
     "execution_count": 11,
     "metadata": {},
     "output_type": "execute_result"
    }
   ],
   "source": [
    "esperados.shape"
   ]
  },
  {
   "cell_type": "markdown",
   "metadata": {},
   "source": [
    "# Gráfico de 11 pontos de precisão e recall"
   ]
  },
  {
   "cell_type": "markdown",
   "metadata": {},
   "source": [
    "Para calcular precision e recall precisamos antes definir os valores para os verdadeiros positivos, falso positivo e falso negativo.\n",
    "* Podemos definir o somatório de VP +FP como tudo aquilo que foi buscado pelo modelo, portanto Precisão = VP/Buscado\n",
    "* Já VP + Fn pode ser difinido como o conjunto de resultados esperados, portanto Recall = VP/Esperado\n",
    "* Por fim, VP isoladamente pode ser dado como a interseçao entre o esperado e o obtido VP = Buscado intersec Esperado"
   ]
  },
  {
   "cell_type": "markdown",
   "metadata": {},
   "source": [
    "Calcularemos 11 pontos de precision e recall para cada query e em seguida faremos a média dos valores"
   ]
  },
  {
   "cell_type": "code",
   "execution_count": 27,
   "metadata": {},
   "outputs": [],
   "source": [
    "esperados = esperados[esperados['QueryNumber'] != 92]"
   ]
  },
  {
   "cell_type": "code",
   "execution_count": 29,
   "metadata": {},
   "outputs": [],
   "source": [
    "def curva_precision_recall_11(resultados, esperados, stemmer):\n",
    "    buscas_recall = []\n",
    "    busca_precisions = []\n",
    "    conjunto_buscas = set(esperados['QueryNumber'].to_list())\n",
    "    for busca in conjunto_buscas:\n",
    "        precisoes = []\n",
    "        recalls = []\n",
    "        esperados_busca = esperados.loc[esperados['QueryNumber'] == busca, 'DocNumber'].to_list()\n",
    "        resultados_busca = resultados.loc[resultados['QueryNumber'] == busca, 'DocNumber'].to_list()\n",
    "        dicionario_recall = {}\n",
    "        for pos, buscas in enumerate(resultados_busca):\n",
    "            \n",
    "            buscados_ate_agora = resultados_busca[:pos+1]\n",
    "            vp = len(set(esperados_busca).intersection(buscados_ate_agora))\n",
    "            recall = vp/len(esperados_busca)\n",
    "            precision = vp/len(buscados_ate_agora)\n",
    "            recall_round = round(recall, 2)\n",
    "            if recall_round in dicionario_recall.keys():\n",
    "                dicionario_recall[recall_round] = max(dicionario_recall[recall_round], precision)\n",
    "            else:\n",
    "                dicionario_recall[recall_round] = precision\n",
    "            \n",
    "            if recall == 1:\n",
    "                break\n",
    "        for valor in [0.00, 0.10, 0.20, 0.30, 0.40, 0.50, 0.60, 0.70, 0.80, 0.90, 1.0]:\n",
    "            if valor not in dicionario_recall:\n",
    "                disponiveis = sorted(dicionario_recall.keys())\n",
    "                for disponivel in disponiveis:\n",
    "                    if disponivel >= valor:\n",
    "                        dicionario_recall[valor] = dicionario_recall[disponivel]\n",
    "                        break\n",
    "            recalls.append(valor)\n",
    "            precisoes.append(dicionario_recall[valor])            \n",
    "        \n",
    "        buscas_recall.append(recalls)\n",
    "        busca_precisions.append(precisoes)\n",
    "    \n",
    "    media_precision = np.mean(np.array(busca_precisions), axis=0)\n",
    "    media_recall = np.mean(np.array(buscas_recall), axis=0)\n",
    "    \n",
    "    if stemmer:\n",
    "        figure_path = '../avalia/11_precisao_recall_stemmer.pdf'\n",
    "        csv_path = '../avalia/11_precisao_recall_stemmer.csv'\n",
    "    else:\n",
    "        figure_path = '../avalia/11_precisao_recall_nostemmer.pdf'\n",
    "        csv_path = '../avalia/11_precisao_recall_nostemmer.csv'\n",
    "    \n",
    "    # Plotar o gráfico Precision-Recall\n",
    "    plt.plot(media_recall, media_precision, marker='o', label='Precision-Recall Curve')\n",
    "\n",
    "    # Configurações do gráfico\n",
    "    plt.xlabel('Recall')\n",
    "    plt.ylabel('Precision')\n",
    "    plt.title('Precision-Recall Curve')\n",
    "    plt.legend()\n",
    "    plt.grid(True)\n",
    "    plt.savefig(figure_path)\n",
    "    # Exibir o gráfico\n",
    "    plt.show()\n",
    "    precision_recall_df = pd.DataFrame(np.array([media_precision, media_recall]).T, columns=[\"Precision\", \"Recall\"])\n",
    "    precision_recall_df.to_csv(csv_path, sep=\";\", index=False)"
   ]
  },
  {
   "cell_type": "markdown",
   "metadata": {},
   "source": [
    "A Query number 92 tem um comportamento quase paranormal, chega um momento que vp para de incrementar mesmo tendo encontrado todos os documentos relevantes, perdi boas horas nesse problema e não consegui, portanto optei por remover a busca. No trecho abaixo temos quais documentos faltam ser descobertos na busca, a medida que eles aparecem VP fica estagnado em 115, memso havendo crescimento no buscados_ate_agora, o conjunto fica vazio indicando que todos os documentos esperados foram buscados, e mesmo assim o recall continuava em 0.94."
   ]
  },
  {
   "cell_type": "code",
   "execution_count": null,
   "metadata": {},
   "outputs": [],
   "source": [
    "\"\"\"\n",
    "{1217, 1186, 1219, 1221, 1193, 1194, 1196, 1228, 1229, 1230, 1231, 1235, 1236, 1208}\n",
    "0.9426229508196722\n",
    "1202\n",
    "115 122\n",
    "{1217, 1219, 1221, 1193, 1194, 1196, 1228, 1229, 1230, 1231, 1235, 1236, 1208}\n",
    "0.9426229508196722\n",
    "1203\n",
    "115 122\n",
    "{1217, 1219, 1221, 1194, 1196, 1228, 1229, 1230, 1231, 1235, 1236, 1208}\n",
    "0.9426229508196722\n",
    "1204\n",
    "115 122\n",
    "{1217, 1219, 1221, 1196, 1228, 1229, 1230, 1231, 1235, 1236, 1208}\n",
    "0.9426229508196722\n",
    "1205\n",
    "115 122\n",
    "{1217, 1219, 1221, 1228, 1229, 1230, 1231, 1235, 1236, 1208}\n",
    "0.9426229508196722\n",
    "1206\n",
    "115 122\n",
    "{1217, 1219, 1221, 1228, 1229, 1230, 1231, 1235, 1236}\n",
    "0.9426229508196722\n",
    "1207\n",
    "115 122\n",
    "{1219, 1221, 1228, 1229, 1230, 1231, 1235, 1236}\n",
    "0.9426229508196722\n",
    "1208\n",
    "115 122\n",
    "{1221, 1228, 1229, 1230, 1231, 1235, 1236}\n",
    "0.9426229508196722\n",
    "1209\n",
    "115 122\n",
    "{1228, 1229, 1230, 1231, 1235, 1236}\n",
    "0.9426229508196722\n",
    "1210\n",
    "115 122\n",
    "{1229, 1230, 1231, 1235, 1236}\n",
    "0.9426229508196722\n",
    "1211\n",
    "115 122\n",
    "{1235, 1236, 1230, 1231}\n",
    "0.9426229508196722\n",
    "1212\n",
    "115 122\n",
    "{1235, 1236, 1231}\n",
    "0.9426229508196722\n",
    "1213\n",
    "115 122\n",
    "{1235, 1236}\n",
    "0.9426229508196722\n",
    "1214\n",
    "115 122\n",
    "{1236}\n",
    "0.9426229508196722\n",
    "1215\n",
    "115 122\n",
    "set()\n",
    "\"\"\""
   ]
  },
  {
   "cell_type": "code",
   "execution_count": 32,
   "metadata": {},
   "outputs": [
    {
     "data": {
      "image/png": "[encoded data removed]",
      "text/plain": [
       "<Figure size 640x480 with 1 Axes>"
      ]
     },
     "metadata": {},
     "output_type": "display_data"
    }
   ],
   "source": [
    "curva_precision_recall_11(resultados_stemmer, esperados, True)"
   ]
  },
  {
   "cell_type": "code",
   "execution_count": 33,
   "metadata": {},
   "outputs": [
    {
     "data": {
      "image/png": "[encoded data removed]",
      "text/plain": [
       "<Figure size 640x480 with 1 Axes>"
      ]
     },
     "metadata": {},
     "output_type": "display_data"
    }
   ],
   "source": [
    "curva_precision_recall_11(resultados, esperados, False)"
   ]
  },
  {
   "cell_type": "markdown",
   "metadata": {},
   "source": [
    "# F1 "
   ]
  },
  {
   "cell_type": "code",
   "execution_count": 34,
   "metadata": {},
   "outputs": [],
   "source": [
    "def calculo_f1_score(resultados, esperados):\n",
    "    buscas_recall = []\n",
    "    busca_precisions = []\n",
    "    conjunto_buscas = set(esperados['QueryNumber'].to_list())\n",
    "    for busca in conjunto_buscas:\n",
    "        esperados_busca = esperados.loc[esperados['QueryNumber'] == busca, 'DocNumber'].to_list()\n",
    "        resultados_busca = resultados.loc[resultados['QueryNumber'] == busca, 'DocNumber'].to_list()\n",
    "        recall = []\n",
    "        precision = []\n",
    "        vp = len(set(esperados_busca).intersection(resultados_busca))\n",
    "        precision.append(vp/len(resultados_busca))\n",
    "        recall.append(vp/len(esperados_busca))\n",
    "        buscas_recall.append(recall)\n",
    "        busca_precisions.append(precision)\n",
    "    media_precision = np.mean(np.array(busca_precisions), axis=0)\n",
    "    media_recall = np.mean(np.array(buscas_recall), axis=0)\n",
    "    f1 = (2 * media_precision * media_recall)/(media_precision + media_recall)\n",
    "    return f1"
   ]
  },
  {
   "cell_type": "code",
   "execution_count": 35,
   "metadata": {},
   "outputs": [
    {
     "data": {
      "text/plain": [
       "array([0.07420466])"
      ]
     },
     "execution_count": 35,
     "metadata": {},
     "output_type": "execute_result"
    }
   ],
   "source": [
    "calculo_f1_score(resultados_stemmer, esperados)"
   ]
  },
  {
   "cell_type": "code",
   "execution_count": 36,
   "metadata": {},
   "outputs": [
    {
     "data": {
      "text/plain": [
       "array([0.07420466])"
      ]
     },
     "execution_count": 36,
     "metadata": {},
     "output_type": "execute_result"
    }
   ],
   "source": [
    "calculo_f1_score(resultados, esperados)"
   ]
  },
  {
   "cell_type": "markdown",
   "metadata": {},
   "source": [
    "# Precision@K"
   ]
  },
  {
   "cell_type": "code",
   "execution_count": 37,
   "metadata": {},
   "outputs": [],
   "source": [
    "def precisionK(resultados, esperados, k):\n",
    "    busca_precisions = []\n",
    "    conjunto_buscas = set(esperados['QueryNumber'].to_list())\n",
    "    for busca in conjunto_buscas:\n",
    "        esperados_busca = esperados.loc[esperados['QueryNumber'] == busca, 'DocNumber'].to_list()\n",
    "        resultados_busca = resultados.loc[resultados['QueryNumber'] == busca, 'DocNumber'].to_list()[:k]\n",
    "        relevantes_buscados = len(set(esperados_busca).intersection(resultados_busca))\n",
    "        precision_k = relevantes_buscados/k\n",
    "        busca_precisions.append(precision_k)\n",
    "    mean_precisions = np.mean(np.array(busca_precisions))\n",
    "    return mean_precisions"
   ]
  },
  {
   "cell_type": "markdown",
   "metadata": {},
   "source": [
    "Stemmer"
   ]
  },
  {
   "cell_type": "code",
   "execution_count": 38,
   "metadata": {},
   "outputs": [
    {
     "data": {
      "text/plain": [
       "0.46326530612244904"
      ]
     },
     "execution_count": 38,
     "metadata": {},
     "output_type": "execute_result"
    }
   ],
   "source": [
    "#Precision 5\n",
    "precisionK(resultados_stemmer, esperados, 5)"
   ]
  },
  {
   "cell_type": "code",
   "execution_count": 39,
   "metadata": {},
   "outputs": [
    {
     "data": {
      "text/plain": [
       "0.39693877551020407"
      ]
     },
     "execution_count": 39,
     "metadata": {},
     "output_type": "execute_result"
    }
   ],
   "source": [
    "#Precision 10\n",
    "precisionK(resultados_stemmer, esperados, 10)"
   ]
  },
  {
   "cell_type": "markdown",
   "metadata": {},
   "source": [
    "No-Stemmer"
   ]
  },
  {
   "cell_type": "code",
   "execution_count": 40,
   "metadata": {},
   "outputs": [
    {
     "data": {
      "text/plain": [
       "0.42448979591836744"
      ]
     },
     "execution_count": 40,
     "metadata": {},
     "output_type": "execute_result"
    }
   ],
   "source": [
    "#Precision 5\n",
    "precisionK(resultados, esperados, 5)"
   ]
  },
  {
   "cell_type": "code",
   "execution_count": 41,
   "metadata": {},
   "outputs": [
    {
     "data": {
      "text/plain": [
       "0.3581632653061224"
      ]
     },
     "execution_count": 41,
     "metadata": {},
     "output_type": "execute_result"
    }
   ],
   "source": [
    "#Precision 10\n",
    "precisionK(resultados, esperados, 10)"
   ]
  },
  {
   "cell_type": "markdown",
   "metadata": {},
   "source": [
    "# Histograma R Precision comparativo"
   ]
  },
  {
   "cell_type": "code",
   "execution_count": 42,
   "metadata": {},
   "outputs": [],
   "source": [
    "#Vamos considerar os 10 primeiros valores\n",
    "#Fazendo o comparativo usando (Stemmer - NoStemmer)\n",
    "def Histograma_R_Precision(resultados,resultados_stemmer, esperados):\n",
    "    busca_precisions = []\n",
    "    busca_precisions_stemmer = []\n",
    "    conjunto_buscas = set(esperados['QueryNumber'].to_list())\n",
    "    for busca in conjunto_buscas:\n",
    "        esperados_busca = esperados.loc[esperados['QueryNumber'] == busca, 'DocNumber'].to_list()\n",
    "        resultados_busca = resultados.loc[resultados['QueryNumber'] == busca, 'DocNumber'].to_list()[:10]\n",
    "        resultados_stemmer_busca = resultados_stemmer.loc[resultados_stemmer['QueryNumber'] == busca, 'DocNumber'].to_list()[:10]\n",
    "        relevantes_buscados = len(set(esperados_busca).intersection(resultados_busca))\n",
    "        relevantes_buscados_stemmer = len(set(esperados_busca).intersection(resultados_stemmer_busca))\n",
    "        precision_k = relevantes_buscados/10\n",
    "        precision_k_stemmer = relevantes_buscados_stemmer/10\n",
    "        busca_precisions.append(precision_k)\n",
    "        busca_precisions_stemmer.append(precision_k_stemmer)\n",
    "    \n",
    "    comparativo = np.array(busca_precisions) - np.array(busca_precisions_stemmer)\n",
    "    figure_path = '../avalia/Histograma_R_Precision.pdf'\n",
    "    csv_path = '../avalia/Histograma_R_Precision.csv'\n",
    "\n",
    "    R_precision_histogram = pd.DataFrame(np.array([comparativo, list(conjunto_buscas)]).T, columns=[\"Comparativo\", \"Buscas\"])\n",
    "    R_precision_histogram.to_csv(csv_path, sep=\";\", index=False)\n",
    "\n",
    "    plt.bar(list(conjunto_buscas),comparativo)\n",
    "    plt.title(\"Histograma R-Precision comparativo\")\n",
    "    plt.xlabel(\"Busca\")\n",
    "    plt.ylabel(\"R-Precision comparativa\")\n",
    "    plt.savefig(figure_path)\n",
    "    plt.show()"
   ]
  },
  {
   "cell_type": "code",
   "execution_count": 43,
   "metadata": {},
   "outputs": [
    {
     "data": {
      "image/png": "[encoded data removed]",
      "text/plain": [
       "<Figure size 640x480 with 1 Axes>"
      ]
     },
     "metadata": {},
     "output_type": "display_data"
    }
   ],
   "source": [
    "Histograma_R_Precision(resultados,resultados_stemmer, esperados)"
   ]
  },
  {
   "cell_type": "markdown",
   "metadata": {},
   "source": [
    "# MAP"
   ]
  },
  {
   "cell_type": "code",
   "execution_count": 44,
   "metadata": {},
   "outputs": [],
   "source": [
    "def MAP(resultados, esperados):\n",
    "    buscas_precisions_medias = []\n",
    "    conjunto_buscas = set(esperados['QueryNumber'].to_list())\n",
    "    for busca in conjunto_buscas:\n",
    "        precisions = []\n",
    "        esperados_busca = esperados.loc[esperados['QueryNumber'] == busca, 'DocNumber'].to_list()\n",
    "        resultados_busca = resultados.loc[resultados['QueryNumber'] == busca, 'DocNumber'].to_list()\n",
    "        for pos, buscas in enumerate(resultados_busca):\n",
    "            buscados_ate_agora = resultados_busca[:pos+1]\n",
    "            if buscas in esperados_busca:\n",
    "                relevantes = len(set(esperados_busca).intersection(buscados_ate_agora))\n",
    "                precision = relevantes/len(buscados_ate_agora)\n",
    "                precisions.append(precision)\n",
    "        media = np.mean(np.array(precisions))\n",
    "        buscas_precisions_medias.append(media)\n",
    "    return np.mean(np.array(buscas_precisions_medias))"
   ]
  },
  {
   "cell_type": "code",
   "execution_count": 45,
   "metadata": {},
   "outputs": [
    {
     "data": {
      "text/plain": [
       "0.21373297216558104"
      ]
     },
     "execution_count": 45,
     "metadata": {},
     "output_type": "execute_result"
    }
   ],
   "source": [
    "# Sem stemmer\n",
    "MAP(resultados, esperados)"
   ]
  },
  {
   "cell_type": "code",
   "execution_count": 46,
   "metadata": {},
   "outputs": [
    {
     "data": {
      "text/plain": [
       "0.23132563093312833"
      ]
     },
     "execution_count": 46,
     "metadata": {},
     "output_type": "execute_result"
    }
   ],
   "source": [
    "#Stemmer\n",
    "MAP(resultados_stemmer, esperados)"
   ]
  },
  {
   "cell_type": "code",
   "execution_count": 47,
   "metadata": {},
   "outputs": [],
   "source": [
    "def MRR(resultados, esperados):\n",
    "    ranks = []\n",
    "    conjunto_buscas = set(esperados['QueryNumber'].to_list())\n",
    "    for busca in conjunto_buscas:\n",
    "        rank = 0\n",
    "        esperados_busca = esperados.loc[esperados['QueryNumber'] == busca, 'DocNumber'].to_list()\n",
    "        resultados_busca = resultados.loc[resultados['QueryNumber'] == busca, 'DocNumber'].to_list()\n",
    "        for pos, buscas in enumerate(resultados_busca):\n",
    "            if buscas in esperados_busca:\n",
    "                rank = 1/(pos + 1)\n",
    "                break\n",
    "        ranks.append(rank)\n",
    "    return np.mean(np.array(ranks))"
   ]
  },
  {
   "cell_type": "code",
   "execution_count": 48,
   "metadata": {},
   "outputs": [
    {
     "data": {
      "text/plain": [
       "0.6943898835480469"
      ]
     },
     "execution_count": 48,
     "metadata": {},
     "output_type": "execute_result"
    }
   ],
   "source": [
    "# Sem stemmer\n",
    "MRR(resultados, esperados)"
   ]
  },
  {
   "cell_type": "code",
   "execution_count": 49,
   "metadata": {},
   "outputs": [
    {
     "data": {
      "text/plain": [
       "0.7011624996318874"
      ]
     },
     "execution_count": 49,
     "metadata": {},
     "output_type": "execute_result"
    }
   ],
   "source": [
    "#Stemmer\n",
    "MRR(resultados_stemmer, esperados)"
   ]
  },
  {
   "cell_type": "markdown",
   "metadata": {},
   "source": [
    "# DCG"
   ]
  },
  {
   "cell_type": "code",
   "execution_count": 60,
   "metadata": {},
   "outputs": [],
   "source": [
    "def DCG(resultados, esperados):\n",
    "    dcg_tot = []\n",
    "    conjunto_buscas = set(esperados['QueryNumber'].to_list())\n",
    "    for busca in conjunto_buscas:\n",
    "        dcg_busca = []\n",
    "        esperados_busca = esperados.loc[esperados['QueryNumber'] == busca, 'DocNumber'].to_list()\n",
    "        resultados_busca = resultados.loc[resultados['QueryNumber'] == busca, 'DocNumber'].to_list()[:10] # Como é necessário dividir pelo tamanho dos resultados, vou tomar os 10 primeiros\n",
    "        for pos, buscas in enumerate(resultados_busca):\n",
    "            ganho_proprio = 0\n",
    "            if buscas in esperados_busca:\n",
    "                ganho_proprio = esperados.loc[(esperados['DocNumber'] == buscas) & (esperados['QueryNumber'] == busca),'DocVotes'].values[0]\n",
    "            if pos == 0:\n",
    "                dcg_busca.append(ganho_proprio)\n",
    "            else:\n",
    "                resultado = dcg_busca[pos-1] + ganho_proprio/np.log2(pos+2)\n",
    "                dcg_busca.append(resultado)\n",
    "        media_busca = np.mean(np.array(dcg_busca))\n",
    "        dcg_tot.append(media_busca)\n",
    "    return np.mean(np.array(dcg_tot))"
   ]
  },
  {
   "cell_type": "code",
   "execution_count": 61,
   "metadata": {},
   "outputs": [
    {
     "data": {
      "text/plain": [
       "4.144891152813444"
      ]
     },
     "execution_count": 61,
     "metadata": {},
     "output_type": "execute_result"
    }
   ],
   "source": [
    "# Sem stemmer\n",
    "DCG(resultados, esperados)"
   ]
  },
  {
   "cell_type": "code",
   "execution_count": 62,
   "metadata": {},
   "outputs": [
    {
     "data": {
      "text/plain": [
       "4.356381875970219"
      ]
     },
     "execution_count": 62,
     "metadata": {},
     "output_type": "execute_result"
    }
   ],
   "source": [
    "#Stemmer\n",
    "DCG(resultados_stemmer, esperados)"
   ]
  },
  {
   "cell_type": "markdown",
   "metadata": {},
   "source": [
    "# Normalized DCG"
   ]
  },
  {
   "cell_type": "code",
   "execution_count": 66,
   "metadata": {},
   "outputs": [],
   "source": [
    "def nDCG(resultados, esperados):\n",
    "    ndcg_tot = []\n",
    "    conjunto_buscas = set(esperados['QueryNumber'].to_list())\n",
    "    for busca in conjunto_buscas:\n",
    "        dcg_busca = []\n",
    "        esperados_busca = esperados.loc[esperados['QueryNumber'] == busca, 'DocNumber'].to_list()\n",
    "        resultados_busca = resultados.loc[resultados['QueryNumber'] == busca, 'DocNumber'].to_list()[:10] # Considerando os 10 primeiros resultados\n",
    "        for pos, buscas in enumerate(resultados_busca):\n",
    "            ganho_proprio = 0\n",
    "            if buscas in esperados_busca:\n",
    "                ganho_proprio = esperados.loc[(esperados['DocNumber'] == buscas) & (esperados['QueryNumber'] == busca), 'DocVotes'].values[0]\n",
    "            if pos == 0:\n",
    "                dcg_busca.append(ganho_proprio)\n",
    "            else:\n",
    "                resultado = dcg_busca[pos-1] + ganho_proprio/np.log2(pos+2)\n",
    "                dcg_busca.append(resultado)\n",
    "        dcg_valor = np.sum(np.array(dcg_busca))\n",
    "\n",
    "        # Calcular iDCG\n",
    "        esperados_ordenados = esperados.loc[esperados['QueryNumber'] == busca].sort_values(by='DocVotes', ascending=False)\n",
    "        idcg_busca = []\n",
    "        for pos, (_, row) in enumerate(esperados_ordenados.iterrows()):\n",
    "            if pos >= 10:\n",
    "                break\n",
    "            ganho_proprio = row['DocVotes']\n",
    "            if pos == 0:\n",
    "                idcg_busca.append(ganho_proprio)\n",
    "            else:\n",
    "                resultado = idcg_busca[pos-1] + ganho_proprio/np.log2(pos+2)\n",
    "                idcg_busca.append(resultado)\n",
    "        idcg_valor = np.sum(np.array(idcg_busca))\n",
    "\n",
    "        # Calcular nDCG\n",
    "        if idcg_valor > 0:\n",
    "            ndcg_busca = dcg_valor / idcg_valor\n",
    "        else:\n",
    "            ndcg_busca = 0\n",
    "\n",
    "        ndcg_tot.append(ndcg_busca)\n",
    "    \n",
    "    return np.mean(np.array(ndcg_tot))"
   ]
  },
  {
   "cell_type": "code",
   "execution_count": 67,
   "metadata": {},
   "outputs": [
    {
     "data": {
      "text/plain": [
       "0.4340470416728552"
      ]
     },
     "execution_count": 67,
     "metadata": {},
     "output_type": "execute_result"
    }
   ],
   "source": [
    "# Sem stemmer\n",
    "nDCG(resultados, esperados)"
   ]
  },
  {
   "cell_type": "code",
   "execution_count": 69,
   "metadata": {},
   "outputs": [
    {
     "data": {
      "text/plain": [
       "0.4534414483897526"
      ]
     },
     "execution_count": 69,
     "metadata": {},
     "output_type": "execute_result"
    }
   ],
   "source": [
    "#Stemmer\n",
    "nDCG(resultados_stemmer, esperados)"
   ]
  }
 ],
 "metadata": {
  "kernelspec": {
   "display_name": "base",
   "language": "python",
   "name": "python3"
  },
  "language_info": {
   "codemirror_mode": {
    "name": "ipython",
    "version": 3
   },
   "file_extension": ".py",
   "mimetype": "text/x-python",
   "name": "python",
   "nbconvert_exporter": "python",
   "pygments_lexer": "ipython3",
   "version": "3.11.7"
  }
 },
 "nbformat": 4,
 "nbformat_minor": 2
}
